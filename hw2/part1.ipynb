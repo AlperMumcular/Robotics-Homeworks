{
 "cells": [
  {
   "cell_type": "markdown",
   "metadata": {},
   "source": [
    "Library Imports / Display Settings (please update environment display according to your setup)"
   ]
  },
  {
   "cell_type": "markdown",
   "metadata": {},
   "source": [
    "You may uncomment if you want to visualize other steps"
   ]
  },
  {
   "cell_type": "code",
   "execution_count": null,
   "metadata": {},
   "outputs": [],
   "source": [
    "from robotic import ry\n",
    "import time\n",
    "import os\n",
    "os.environ['DISPLAY'] = 'LAPTOP-8K2E2M8V.local:0'"
   ]
  },
  {
   "cell_type": "code",
   "execution_count": null,
   "metadata": {},
   "outputs": [],
   "source": [
    "C = ry.Config()\n",
    "C.addFile('cargobot_base.g')\n",
    "C.addFile('maze.g')\n",
    "#C.view()\n",
    "qHome = C.getJointState()"
   ]
  },
  {
   "cell_type": "markdown",
   "metadata": {},
   "source": [
    "Get Final Pose With KOMO"
   ]
  },
  {
   "cell_type": "code",
   "execution_count": null,
   "metadata": {},
   "outputs": [],
   "source": [
    "C.setJointState(qHome)\n",
    "komo = ry.KOMO(C, 1, 10, 2, True)\n",
    "komo.addControlObjective([], 0, 1e-1) \n",
    "komo.addControlObjective([], 2, 1e0)\n",
    "komo.addObjective([], ry.FS.accumulatedCollisions, [], ry.OT.eq,[1e1])\n",
    "komo.addObjective([1], ry.FS.positionDiff, ['base', 'goal_area'], ry.OT.eq, [1e1])\n",
    "komo.addObjective([1], ry.FS.jointState, [], ry.OT.eq, [1e1], [], order=1)\n",
    "\n",
    "ret = ry.NLP_Solver(komo.nlp(), verbose=0 ) .solve()\n",
    "print(ret)\n",
    "q = komo.getPath()\n",
    "print('size of path:', q.shape)\n",
    "\n",
    "#for t in range(q.shape[0]):\n",
    "#    C.setJointState(q[t])\n",
    "#    C.view(False, f'waypoint {t}')\n",
    "#    time.sleep(.1)\n",
    "\n",
    "qT = komo.getPath()[-1]\n",
    "C.setJointState(qT)\n",
    "#C.view(False, \"IK solution\")"
   ]
  },
  {
   "cell_type": "markdown",
   "metadata": {},
   "source": [
    "RRT (Rapidly Exploring Random Tree)"
   ]
  },
  {
   "cell_type": "code",
   "execution_count": null,
   "metadata": {},
   "outputs": [],
   "source": [
    "#define a path finding problem\n",
    "myBool = False\n",
    "while myBool is False: \n",
    "    rrt = ry.PathFinder()\n",
    "    rrt.setProblem(C, [qHome], [qT])\n",
    "\n",
    "    ret = rrt.solve()\n",
    "    myBool = ret.feasible\n",
    "    path = ret.x"
   ]
  },
  {
   "cell_type": "code",
   "execution_count": null,
   "metadata": {},
   "outputs": [],
   "source": [
    "# display the path\n",
    "#for t in range(0, path.shape[0]-1):\n",
    "#    C.setJointState(path[t])\n",
    "#    C.view()\n",
    "#    time.sleep(.1)"
   ]
  },
  {
   "cell_type": "code",
   "execution_count": null,
   "metadata": {},
   "outputs": [],
   "source": [
    "del komo\n",
    "del C\n",
    "del rrt"
   ]
  },
  {
   "cell_type": "code",
   "execution_count": null,
   "metadata": {},
   "outputs": [],
   "source": [
    "C = ry.Config()\n",
    "C.addFile('cargobot_base.g')\n",
    "C.addFile('maze.g')\n",
    "#C.view()\n",
    "qHome = C.getJointState()"
   ]
  },
  {
   "cell_type": "markdown",
   "metadata": {},
   "source": [
    "Trajectory Optimization via KOMO"
   ]
  },
  {
   "cell_type": "code",
   "execution_count": null,
   "metadata": {},
   "outputs": [],
   "source": [
    "C.setJointState(qHome)\n",
    "komo = ry.KOMO(C, len(path), 1, 2, True)\n",
    "#komo.addControlObjective([], 0, 1e-1) \n",
    "komo.addControlObjective([], 1, 1e1)\n",
    "#komo.addControlObjective([], 2, 1e1)\n",
    "komo.initWithPath_qOrg(path)\n",
    "komo.addObjective([], ry.FS.accumulatedCollisions, [], ry.OT.eq,[1e1])\n",
    "komo.addObjective([673], ry.FS.positionDiff, ['base', 'goal_area'], ry.OT.eq, [1e1])\n",
    "komo.addObjective([673], ry.FS.jointState, [], ry.OT.eq, [1e1], [], order=1)\n",
    "\n",
    "\n",
    "ret = ry.NLP_Solver(komo.nlp(), verbose=0 ) .solve()\n",
    "print(ret)\n",
    "q = komo.getPath()\n",
    "print('size of path:', q.shape)\n",
    "\n",
    "for t in range(q.shape[0]):\n",
    "    C.setJointState(q[t])\n",
    "    C.view(False, f'waypoint {t}')\n",
    "    time.sleep(.01)"
   ]
  },
  {
   "cell_type": "code",
   "execution_count": null,
   "metadata": {},
   "outputs": [],
   "source": [
    "del komo\n",
    "del C"
   ]
  }
 ],
 "metadata": {
  "kernelspec": {
   "display_name": "rai_venv",
   "language": "python",
   "name": "python3"
  },
  "language_info": {
   "codemirror_mode": {
    "name": "ipython",
    "version": 3
   },
   "file_extension": ".py",
   "mimetype": "text/x-python",
   "name": "python",
   "nbconvert_exporter": "python",
   "pygments_lexer": "ipython3",
   "version": "3.8.10"
  }
 },
 "nbformat": 4,
 "nbformat_minor": 2
}
