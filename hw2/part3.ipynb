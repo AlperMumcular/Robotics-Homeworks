{
 "cells": [
  {
   "cell_type": "code",
   "execution_count": 1,
   "metadata": {},
   "outputs": [],
   "source": [
    "from robotic import ry\n",
    "import numpy as np\n",
    "import time\n",
    "ry.params_add({'physx/motorKp': 10000., 'physx/motorKd': 1000., 'physx/angularDamping': 10., 'physx/defaultFriction': 100.})\n",
    "# ry.params_print()"
   ]
  },
  {
   "cell_type": "code",
   "execution_count": 2,
   "metadata": {},
   "outputs": [],
   "source": [
    "C = ry.Config()\n",
    "C.addFile('cargobot_base.g')\n",
    "C.addFile('push_cargo.g')\n",
    "C.addFile('push_maze.g')\n",
    "# C.view(False)"
   ]
  },
  {
   "cell_type": "code",
   "execution_count": 3,
   "metadata": {},
   "outputs": [],
   "source": [
    "# define a 2 waypoint problem in KOMO\n",
    "komo = ry.KOMO()\n",
    "komo.setConfig(C, True)\n",
    "komo.setTiming(5., 1, 10., 0)\n",
    "komo.addControlObjective([], 0, 1e-0)\n",
    "komo.addObjective([], ry.FS.accumulatedCollisions, [], ry.OT.eq,),[1e1]\n",
    "komo.addObjective([], ry.FS.jointLimits, [], ry.OT.ineq)\n",
    "komo.addObjective([1.], ry.FS.positionDiff, ['base', 'cargo'], ry.OT.eq, [1e1])\n",
    "#komo.addObjective([2.], ry.FS.positionDiff, ['base', 'cp2'], ry.OT.eq, [1e1])\n",
    "#komo.addObjective([3.], ry.FS.positionDiff, ['base', 'cp3'], ry.OT.eq, [1e1])\n",
    "#komo.addObjective([4.], ry.FS.positionDiff, ['base', 'cp4'], ry.OT.eq, [1e1])\n",
    " #komo.addObjective([5.], ry.FS.positionDiff, ['base', 'goal_area'], ry.OT.eq, [1e1])\n",
    "komo.addObjective([5], ry.FS.jointState, [], ry.OT.eq, [1e1], [], order=0)\n"
   ]
  },
  {
   "cell_type": "code",
   "execution_count": 4,
   "metadata": {},
   "outputs": [],
   "source": [
    "ret = ry.NLP_Solver(komo.nlp(), verbose=0 ) .solve()\n",
    "# print(ret)"
   ]
  },
  {
   "cell_type": "code",
   "execution_count": 5,
   "metadata": {},
   "outputs": [
    {
     "name": "stdout",
     "output_type": "stream",
     "text": [
      "NVD3D10: CPU cyclestats are disabled on client virtualization \n",
      "NVD3D10: CPU cyclestats are disabled on client virtualization \n"
     ]
    },
    {
     "data": {
      "text/plain": [
       "0"
      ]
     },
     "execution_count": 5,
     "metadata": {},
     "output_type": "execute_result"
    }
   ],
   "source": [
    "komo.view(False, \"waypoints solution\")"
   ]
  },
  {
   "cell_type": "code",
   "execution_count": 6,
   "metadata": {},
   "outputs": [],
   "source": [
    "komo.view_close()\n",
    "path = komo.getPath()"
   ]
  },
  {
   "cell_type": "code",
   "execution_count": null,
   "metadata": {},
   "outputs": [],
   "source": [
    "bot = ry.BotOp(C, False)\n",
    "bot.home(C)"
   ]
  },
  {
   "cell_type": "code",
   "execution_count": null,
   "metadata": {},
   "outputs": [],
   "source": []
  },
  {
   "cell_type": "code",
   "execution_count": null,
   "metadata": {},
   "outputs": [],
   "source": [
    "path = komo.getPath()\n",
    "for position in path:\n",
    "    bot.moveTo(position, 0.5)\n",
    "    \n",
    "while bot.getTimeToEnd()>0:\n",
    "    bot.sync(C, .1)"
   ]
  },
  {
   "cell_type": "code",
   "execution_count": null,
   "metadata": {},
   "outputs": [],
   "source": [
    "while True:\n",
    "    c = C.frame('cargo')\n",
    "    bot.moveTo(path[0], 0.5)\n",
    "    bot.moveTo(path[1], 0.5)\n",
    "    bot.moveTo(path[2], 0.5)\n",
    "    komo.view(False, \"waypoints solution\")\n",
    "    #path = komo.getPath()"
   ]
  },
  {
   "cell_type": "code",
   "execution_count": null,
   "metadata": {},
   "outputs": [],
   "source": [
    "c = C.frame('cargo')\n",
    "print(\"cargo: \", c.getPosition())"
   ]
  },
  {
   "cell_type": "code",
   "execution_count": null,
   "metadata": {},
   "outputs": [],
   "source": [
    "del bot\n",
    "del C"
   ]
  }
 ],
 "metadata": {
  "kernelspec": {
   "display_name": "Python 3",
   "language": "python",
   "name": "python3"
  },
  "language_info": {
   "codemirror_mode": {
    "name": "ipython",
    "version": 3
   },
   "file_extension": ".py",
   "mimetype": "text/x-python",
   "name": "python",
   "nbconvert_exporter": "python",
   "pygments_lexer": "ipython3",
   "version": "3.8.10"
  }
 },
 "nbformat": 4,
 "nbformat_minor": 2
}
